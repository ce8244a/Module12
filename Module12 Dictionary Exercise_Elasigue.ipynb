{
 "cells": [
  {
   "cell_type": "markdown",
   "metadata": {},
   "source": [
    "### Exercise 1. \n",
    "Create a dictionary named pairs with key value pairs of:\n",
    "    - 'hello' and 'fire', \n",
    "    - 3 and 'seven', \n",
    "    - 'strong' and 45. \n",
    "\n",
    "Then, print out the dictionary."
   ]
  },
  {
   "cell_type": "code",
   "execution_count": 1,
   "metadata": {},
   "outputs": [
    {
     "name": "stdout",
     "output_type": "stream",
     "text": [
      "{'hello': 'fire', 3: 'seven', 'strong': 45}\n"
     ]
    }
   ],
   "source": [
    "pairs = {\"hello\": \"fire\", 3: \"seven\", \"strong\": 45}\n",
    "print(pairs)"
   ]
  },
  {
   "cell_type": "markdown",
   "metadata": {},
   "source": [
    "### Exercise 2. \n",
    "Add 'welcome' and 56 pair into <b><i>pairs</i></b> dictionary from exercise 1. Then, print out the dictionary. "
   ]
  },
  {
   "cell_type": "code",
   "execution_count": 2,
   "metadata": {},
   "outputs": [
    {
     "name": "stdout",
     "output_type": "stream",
     "text": [
      "{'hello': 'fire', 3: 'seven', 'strong': 45, 'welcome': 56}\n"
     ]
    }
   ],
   "source": [
    "pairs[\"welcome\"] = 56\n",
    "print(pairs)"
   ]
  },
  {
   "cell_type": "markdown",
   "metadata": {},
   "source": [
    "### Exercise 3. \n",
    "Delete one item from <b><i>pairs</i></b> dictionary. Then, print deleted item and the dictionary."
   ]
  },
  {
   "cell_type": "code",
   "execution_count": 3,
   "metadata": {},
   "outputs": [
    {
     "name": "stdout",
     "output_type": "stream",
     "text": [
      "{'hello': 'fire', 3: 'seven', 'strong': 45, 'welcome': 56}\n",
      "{'hello': 'fire', 3: 'seven', 'welcome': 56}\n"
     ]
    },
    {
     "ename": "KeyError",
     "evalue": "'strong'",
     "output_type": "error",
     "traceback": [
      "\u001b[1;31m---------------------------------------------------------------------------\u001b[0m",
      "\u001b[1;31mKeyError\u001b[0m                                  Traceback (most recent call last)",
      "\u001b[1;32m<ipython-input-3-17726e747917>\u001b[0m in \u001b[0;36m<module>\u001b[1;34m\u001b[0m\n\u001b[0;32m      2\u001b[0m \u001b[0mpairs\u001b[0m\u001b[1;33m.\u001b[0m\u001b[0mpop\u001b[0m\u001b[1;33m(\u001b[0m\u001b[1;34m\"strong\"\u001b[0m\u001b[1;33m)\u001b[0m\u001b[1;33m\u001b[0m\u001b[1;33m\u001b[0m\u001b[0m\n\u001b[0;32m      3\u001b[0m \u001b[0mprint\u001b[0m\u001b[1;33m(\u001b[0m\u001b[0mpairs\u001b[0m\u001b[1;33m)\u001b[0m\u001b[1;33m\u001b[0m\u001b[1;33m\u001b[0m\u001b[0m\n\u001b[1;32m----> 4\u001b[1;33m \u001b[0mprint\u001b[0m\u001b[1;33m(\u001b[0m\u001b[0mpairs\u001b[0m\u001b[1;33m[\u001b[0m\u001b[1;34m\"strong\"\u001b[0m\u001b[1;33m]\u001b[0m\u001b[1;33m)\u001b[0m\u001b[1;33m\u001b[0m\u001b[1;33m\u001b[0m\u001b[0m\n\u001b[0m",
      "\u001b[1;31mKeyError\u001b[0m: 'strong'"
     ]
    }
   ],
   "source": [
    "print(pairs)\n",
    "pairs.pop(\"strong\")\n",
    "print(pairs)\n",
    "print(pairs[\"strong\"])\n"
   ]
  },
  {
   "cell_type": "markdown",
   "metadata": {},
   "source": [
    "### Exercise 4. \n",
    "Print the value of an item where key is 3 in <b><i>pairs</i></b> dicitonary"
   ]
  },
  {
   "cell_type": "code",
   "execution_count": 4,
   "metadata": {},
   "outputs": [
    {
     "name": "stdout",
     "output_type": "stream",
     "text": [
      "{'hello': 'fire', 3: 'seven', 'welcome': 56}\n",
      "seven\n"
     ]
    }
   ],
   "source": [
    "print(pairs)\n",
    "print(pairs[3])"
   ]
  },
  {
   "cell_type": "markdown",
   "metadata": {},
   "source": [
    "### Exercise 5. \n",
    "Try to find out if the key called 'hello' exist in <b><i>pairs</i></b> dictionary. Print 'key is found' message if the key exists otherwise print 'key is not there'."
   ]
  },
  {
   "cell_type": "code",
   "execution_count": 5,
   "metadata": {},
   "outputs": [
    {
     "name": "stdout",
     "output_type": "stream",
     "text": [
      "{'hello': 'fire', 3: 'seven', 'welcome': 56}\n",
      "key is found\n"
     ]
    }
   ],
   "source": [
    "print(pairs)\n",
    "\n",
    "if \"hello\" in pairs :      \n",
    "    print(\"key is found\")\n",
    "else :    \n",
    "    print(\"key is not there\")"
   ]
  },
  {
   "cell_type": "markdown",
   "metadata": {},
   "source": [
    "### Exercise 6. \n",
    "Create a Test Scores program that gets the name of students and test score from a user. Then, generate a list of students who passed and a list of students who failed where passing test score is 60 or above. "
   ]
  },
  {
   "cell_type": "code",
   "execution_count": 7,
   "metadata": {},
   "outputs": [
    {
     "name": "stdout",
     "output_type": "stream",
     "text": [
      "Student Name ('q' to quit): Smith\n",
      "Grade: 95\n",
      "Student Name ('q' to quit): Johnson\n",
      "Grade: 60\n",
      "Student Name ('q' to quit): Brown\n",
      "Grade: 55\n",
      "Student Name ('q' to quit): Jones\n",
      "Grade: 85\n",
      "Student Name ('q' to quit): Garcia\n",
      "Grade: 85\n",
      "Student Name ('q' to quit): Miller\n",
      "Grade: 58\n",
      "Student Name ('q' to quit): Davis\n",
      "Grade: 75\n",
      "Student Name ('q' to quit): q\n",
      "\n",
      "Smith\t= Pass\n",
      "\n",
      "Johnson\t= Pass\n",
      "\n",
      "Brown\t= Fail\n",
      "\n",
      "Jones\t= Pass\n",
      "\n",
      "Garcia\t= Pass\n",
      "\n",
      "Miller\t= Fail\n",
      "\n",
      "Davis\t= Pass\n"
     ]
    }
   ],
   "source": [
    "#Create a Test Scores program that gets the name of students and test score from a user. \n",
    "# Then, generate a list of students who \n",
    "# passed and a list of students who failed where passing test score is 60 or above.\n",
    "students = {}\n",
    "test_scores = {}\n",
    "\n",
    "query = \"\"\n",
    "while query != \"q\":\n",
    "    query = input(\"Student Name ('q' to quit): \")\n",
    "    if query == \"q\":\n",
    "        break\n",
    "    grade = int(input(\"Grade: \"))\n",
    "    students[query] = grade\n",
    "\n",
    "for query, grade in students.items():\n",
    "    if grade >= 60:\n",
    "        test_scores[query] = \"Pass\"\n",
    "       \n",
    "    else:\n",
    "        test_scores[query] = \"Fail\"\n",
    "\n",
    "\n",
    "\n",
    "for query, grade in test_scores.items():\n",
    "    print(f\"\\n{query.title()}\\t= {grade}\")\n"
   ]
  },
  {
   "cell_type": "code",
   "execution_count": null,
   "metadata": {},
   "outputs": [],
   "source": []
  },
  {
   "cell_type": "markdown",
   "metadata": {},
   "source": [
    "### Exercise 7. \n",
    "\n",
    "Create a Word Counter program that gets a string of text from a user and then counts the number of times a word occrs in the string. \n",
    "\n",
    "The output should look something like this:\n",
    "\n",
    "    The Word Counter Program\n",
    "    \n",
    "    Enter a text string: \n",
    "    Humpty Dumpty sat on a wall, Humpty Dumpty had a great fall. All the king’s horses and all the king’s men couldn’t put Humpty together again.\n",
    "\n",
    "    a : 2\n",
    "    again : 1\n",
    "    all : 2\n",
    "    and : 1\n",
    "    couldn’t : 1\n",
    "    dumpty : 2\n",
    "    fall : 1\n",
    "    great : 1\n",
    "    had : 1\n",
    "    horses : 1\n",
    "    humpty : 3\n",
    "    king’s : 2\n",
    "    men : 1\n",
    "    on : 1\n",
    "    put : 1\n",
    "    sat : 1\n",
    "    the : 2\n",
    "    together : 1\n",
    "    wall : 1\n",
    "\n",
    "    There were total 26 words in the text string   "
   ]
  },
  {
   "cell_type": "code",
   "execution_count": 8,
   "metadata": {},
   "outputs": [
    {
     "name": "stdout",
     "output_type": "stream",
     "text": [
      "Enter a string : Humpty Dumpty sat on a wall , Humpty Dumpty had a great fall. All the king’s horses and all the king’s men couldn’t put Humpty together again.\n",
      ",: 1\n",
      "a: 2\n",
      "again.: 1\n",
      "all: 2\n",
      "and: 1\n",
      "couldn’t: 1\n",
      "dumpty: 2\n",
      "fall.: 1\n",
      "great: 1\n",
      "had: 1\n",
      "horses: 1\n",
      "humpty: 3\n",
      "king’s: 2\n",
      "men: 1\n",
      "on: 1\n",
      "put: 1\n",
      "sat: 1\n",
      "the: 2\n",
      "together: 1\n",
      "wall: 1\n",
      "\n",
      "There were total 27 words in the text string\n"
     ]
    }
   ],
   "source": [
    "string = input(\"Enter a string : \")\n",
    "word_list = string.split()\n",
    "num_of_words = len(word_list)\n",
    "\n",
    "string_dict = {}\n",
    "\n",
    "for word in string.lower().split():\n",
    "    string_dict[word] = string_dict.get(word,0) + 1\n",
    "\n",
    "for key in sorted(string_dict):\n",
    "    print(f\"{key}: {string_dict[key]}\")\n",
    "    \n",
    "print(f\"\\nThere were total {num_of_words} words in the text string\")\n",
    "\n"
   ]
  },
  {
   "cell_type": "code",
   "execution_count": null,
   "metadata": {},
   "outputs": [],
   "source": []
  }
 ],
 "metadata": {
  "kernelspec": {
   "display_name": "Python 3",
   "language": "python",
   "name": "python3"
  },
  "language_info": {
   "codemirror_mode": {
    "name": "ipython",
    "version": 3
   },
   "file_extension": ".py",
   "mimetype": "text/x-python",
   "name": "python",
   "nbconvert_exporter": "python",
   "pygments_lexer": "ipython3",
   "version": "3.8.5"
  }
 },
 "nbformat": 4,
 "nbformat_minor": 4
}
